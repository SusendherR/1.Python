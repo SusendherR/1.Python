{
 "cells": [
  {
   "cell_type": "code",
   "execution_count": 8,
   "id": "e7fc86e1-e7ba-4244-bff9-3af713385035",
   "metadata": {},
   "outputs": [
    {
     "name": "stdin",
     "output_type": "stream",
     "text": [
      "Enter the number: 7\n"
     ]
    }
   ],
   "source": [
    "num1=int(input(\"Enter the number:\"))"
   ]
  },
  {
   "cell_type": "code",
   "execution_count": 9,
   "id": "c783e526-2076-4a37-ac5f-80060ecd203a",
   "metadata": {},
   "outputs": [
    {
     "name": "stdin",
     "output_type": "stream",
     "text": [
      "Enter the number: 8\n"
     ]
    }
   ],
   "source": [
    "num2=int(input(\"Enter the number:\"))"
   ]
  },
  {
   "cell_type": "code",
   "execution_count": 13,
   "id": "b0019387-ed15-40db-961c-18c069883237",
   "metadata": {},
   "outputs": [
    {
     "name": "stdout",
     "output_type": "stream",
     "text": [
      "15\n"
     ]
    }
   ],
   "source": [
    "print(add)"
   ]
  }
 ],
 "metadata": {
  "kernelspec": {
   "display_name": "Python 3 (ipykernel)",
   "language": "python",
   "name": "python3"
  },
  "language_info": {
   "codemirror_mode": {
    "name": "ipython",
    "version": 3
   },
   "file_extension": ".py",
   "mimetype": "text/x-python",
   "name": "python",
   "nbconvert_exporter": "python",
   "pygments_lexer": "ipython3",
   "version": "3.11.7"
  }
 },
 "nbformat": 4,
 "nbformat_minor": 5
}
