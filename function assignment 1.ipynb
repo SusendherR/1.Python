{
 "cells": [
  {
   "cell_type": "code",
   "execution_count": 1,
   "id": "b465c0f0-1b39-482f-a288-d7f7df87bcbe",
   "metadata": {},
   "outputs": [],
   "source": [
    "def Subfields():\n",
    "    list=[\"Machine Learning\",\"Neural Networks\",\"Vision\",\"Robotics\",\"Speech Processing\",\"Natural Language Processing\"]\n",
    "    print(\"Sub-fields in AI are:\")\n",
    "    for temp in list:\n",
    "        print(temp)"
   ]
  },
  {
   "cell_type": "code",
   "execution_count": 2,
   "id": "0ff9c129-2bac-4191-9ef9-7ec09b557657",
   "metadata": {},
   "outputs": [
    {
     "name": "stdout",
     "output_type": "stream",
     "text": [
      "Sub-fields in AI are:\n",
      "Machine Learning\n",
      "Neural Networks\n",
      "Vision\n",
      "Robotics\n",
      "Speech Processing\n",
      "Natural Language Processing\n"
     ]
    }
   ],
   "source": [
    "Subfields()"
   ]
  },
  {
   "cell_type": "code",
   "execution_count": null,
   "id": "20e0715a-99c5-4788-8c2a-c4aca48c0862",
   "metadata": {},
   "outputs": [],
   "source": []
  },
  {
   "cell_type": "code",
   "execution_count": 5,
   "id": "eced1be4-cff5-49a7-bc61-f9d2ef0953d9",
   "metadata": {},
   "outputs": [],
   "source": [
    "def oddeven():\n",
    "    num=int(input(\"Enter The Number:\"))\n",
    "    if((num%2)==0):\n",
    "        print(num,\"even number\")\n",
    "        message=\"even number\"\n",
    "    else:\n",
    "        print(num,\"odd number:\")\n",
    "        message=\"odd number\"\n",
    "    return message"
   ]
  },
  {
   "cell_type": "code",
   "execution_count": 6,
   "id": "137631e1-523b-4180-8c43-145918132d8d",
   "metadata": {},
   "outputs": [
    {
     "name": "stdin",
     "output_type": "stream",
     "text": [
      "Enter The Number: 52452\n"
     ]
    },
    {
     "name": "stdout",
     "output_type": "stream",
     "text": [
      "52452 even number\n"
     ]
    },
    {
     "data": {
      "text/plain": [
       "'even number'"
      ]
     },
     "execution_count": 6,
     "metadata": {},
     "output_type": "execute_result"
    }
   ],
   "source": [
    "oddeven()"
   ]
  },
  {
   "cell_type": "code",
   "execution_count": null,
   "id": "7c10bf05-d7a8-4ae2-9b70-21dbad66984e",
   "metadata": {},
   "outputs": [],
   "source": []
  },
  {
   "cell_type": "code",
   "execution_count": 7,
   "id": "3daabbfd-05bf-4cc3-a6e2-70ca6dcd553c",
   "metadata": {},
   "outputs": [],
   "source": [
    "def marriage_elegibility():\n",
    "    Gender=input(\"Your Gender:\")\n",
    "    age=int(input(\"Your Age:\"))\n",
    "    if(age<=21):\n",
    "        print(\"NOT ELIGIBLE\")\n",
    "    elif(age<18):\n",
    "        print(\"NOT ELIGIBLE\")\n",
    "    else:\n",
    "        print(\"ELIGIBLE\")"
   ]
  },
  {
   "cell_type": "code",
   "execution_count": 8,
   "id": "8b9bda87-d687-4902-9ea9-07e46421b718",
   "metadata": {},
   "outputs": [
    {
     "name": "stdin",
     "output_type": "stream",
     "text": [
      "Your Gender: male\n",
      "Your Age: 20\n"
     ]
    },
    {
     "name": "stdout",
     "output_type": "stream",
     "text": [
      "NOT ELIGIBLE\n"
     ]
    }
   ],
   "source": [
    "marriage_elegibility()"
   ]
  },
  {
   "cell_type": "code",
   "execution_count": null,
   "id": "20153a06-7c17-4e65-bcf5-987c0275275b",
   "metadata": {},
   "outputs": [],
   "source": []
  },
  {
   "cell_type": "code",
   "execution_count": 1,
   "id": "c9e237cc-cd0d-4b51-8f7f-f9b488c94823",
   "metadata": {},
   "outputs": [],
   "source": [
    "def percentage():\n",
    "    m1=int(input(\"Subject1=\"))\n",
    "    m2=int(input(\"Subject2=\"))\n",
    "    m3=int(input(\"Subject3=\"))\n",
    "    m4=int(input(\"Subject4=\"))\n",
    "    m5=int(input(\"Subject5=\"))\n",
    "    Total=m1+m2+m3+m4+m5\n",
    "    print(\"Total:\",Total)\n",
    "    percentage=(Total/500)*100\n",
    "    print(\"percentage:\",percentage)\n",
    "    return percentage"
   ]
  },
  {
   "cell_type": "code",
   "execution_count": 2,
   "id": "27c1f137-d4ab-48b3-96f8-14081b4f11af",
   "metadata": {},
   "outputs": [
    {
     "name": "stdin",
     "output_type": "stream",
     "text": [
      "Subject1= 98\n",
      "Subject2= 87\n",
      "Subject3= 95\n",
      "Subject4= 95\n",
      "Subject5= 93\n"
     ]
    },
    {
     "name": "stdout",
     "output_type": "stream",
     "text": [
      "Total: 468\n",
      "percentage: 93.60000000000001\n"
     ]
    },
    {
     "data": {
      "text/plain": [
       "93.60000000000001"
      ]
     },
     "execution_count": 2,
     "metadata": {},
     "output_type": "execute_result"
    }
   ],
   "source": [
    "percentage()"
   ]
  },
  {
   "cell_type": "code",
   "execution_count": 1,
   "id": "73f0c447-6d28-448f-8c88-cef027cb6e2c",
   "metadata": {},
   "outputs": [],
   "source": [
    "def triangle():\n",
    "    Height=int(input(\"Height:\"))\n",
    "    Breadth=int(input(\"Breadth:\"))\n",
    "    print(\"area formula:(Height*Breadth)/2\")\n",
    "    print(\"area of Triangle:\",(Height*Breadth/2))\n",
    "    Height1=int(input(\"Height1:\"))\n",
    "    Height2=int(input(\"Height2:\"))\n",
    "    Breadth=int(input(\"Breadth:\"))\n",
    "    print(\"Perimeter formula:Height1+Height2+Breadth\")\n",
    "    print(\"Perimeter of Triangle:\",(Height1+Height2+Breadth))"
   ]
  },
  {
   "cell_type": "code",
   "execution_count": 2,
   "id": "9d135b8a-a091-4d83-b115-455dac6e7eee",
   "metadata": {},
   "outputs": [
    {
     "name": "stdin",
     "output_type": "stream",
     "text": [
      "Height: 32\n",
      "Breadth: 34\n"
     ]
    },
    {
     "name": "stdout",
     "output_type": "stream",
     "text": [
      "area formula:(Height*Breadth)/2\n",
      "area of Triangle: 544.0\n"
     ]
    },
    {
     "name": "stdin",
     "output_type": "stream",
     "text": [
      "Height1: 2\n",
      "Height2: 4\n",
      "Breadth: 4\n"
     ]
    },
    {
     "name": "stdout",
     "output_type": "stream",
     "text": [
      "Perimeter formula:Height1+Height2+Breadth\n",
      "Perimeter of Triangle: 10\n"
     ]
    }
   ],
   "source": [
    " triangle()"
   ]
  },
  {
   "cell_type": "code",
   "execution_count": null,
   "id": "81fd7847-dc44-40b3-8c5c-9952a766b267",
   "metadata": {},
   "outputs": [],
   "source": []
  }
 ],
 "metadata": {
  "kernelspec": {
   "display_name": "Python 3 (ipykernel)",
   "language": "python",
   "name": "python3"
  },
  "language_info": {
   "codemirror_mode": {
    "name": "ipython",
    "version": 3
   },
   "file_extension": ".py",
   "mimetype": "text/x-python",
   "name": "python",
   "nbconvert_exporter": "python",
   "pygments_lexer": "ipython3",
   "version": "3.11.7"
  }
 },
 "nbformat": 4,
 "nbformat_minor": 5
}
