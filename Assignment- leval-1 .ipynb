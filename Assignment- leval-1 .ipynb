{
 "cells": [
  {
   "cell_type": "code",
   "execution_count": 1,
   "id": "092e0387-4ae5-4a3a-976c-b4b48b54572a",
   "metadata": {},
   "outputs": [
    {
     "name": "stdout",
     "output_type": "stream",
     "text": [
      "HOPE AI\n"
     ]
    }
   ],
   "source": [
    "print(\"HOPE AI\")"
   ]
  },
  {
   "cell_type": "code",
   "execution_count": null,
   "id": "db91279d-3ae0-4d2d-a932-5d47850e67ee",
   "metadata": {},
   "outputs": [],
   "source": []
  },
  {
   "cell_type": "code",
   "execution_count": 5,
   "id": "901377d4-c124-4d9c-bf51-c33d55b7e865",
   "metadata": {},
   "outputs": [
    {
     "name": "stdin",
     "output_type": "stream",
     "text": [
      "ENTER THE INSTITUTE NAME: HOPE AI\n"
     ]
    }
   ],
   "source": [
    "name=input(\"ENTER THE INSTITUTE NAME:\")"
   ]
  },
  {
   "cell_type": "code",
   "execution_count": null,
   "id": "5c6dc83e-d869-4874-a5ef-dc2aba1d4811",
   "metadata": {},
   "outputs": [],
   "source": []
  },
  {
   "cell_type": "code",
   "execution_count": 6,
   "id": "a27681e3-b6a9-48e7-aa72-eb0253e1b571",
   "metadata": {},
   "outputs": [
    {
     "name": "stdin",
     "output_type": "stream",
     "text": [
      "ENTER YOUR NAME: susendher\n",
      "ENTER THE AGE: 23\n",
      "ENTER THE SCHOOL NAME: Government school\n",
      "ENTER THE DRGREE: B.sc\n"
     ]
    }
   ],
   "source": [
    "name=input(\"ENTER YOUR NAME:\")\n",
    "age=int(input(\"ENTER THE AGE:\"))\n",
    "name=input(\"ENTER THE SCHOOL NAME:\")\n",
    "name=input(\"ENTER THE DRGREE:\")"
   ]
  },
  {
   "cell_type": "code",
   "execution_count": null,
   "id": "857e05f9-9a9a-48f7-a18a-b2633dbfcdcd",
   "metadata": {},
   "outputs": [],
   "source": []
  },
  {
   "cell_type": "code",
   "execution_count": 5,
   "id": "631e77e5-a461-4388-867f-5f9e51fb4b3c",
   "metadata": {},
   "outputs": [
    {
     "name": "stdin",
     "output_type": "stream",
     "text": [
      "a= 43\n",
      "b= 34\n"
     ]
    },
    {
     "name": "stdout",
     "output_type": "stream",
     "text": [
      "Addition= 77\n"
     ]
    }
   ],
   "source": [
    "num1=int(input(\"a=\"))\n",
    "num2=int(input(\"b=\"))\n",
    "print(\"Addition=\", num1+num2)"
   ]
  },
  {
   "cell_type": "code",
   "execution_count": null,
   "id": "afde8489-7324-41fa-b0f9-bc580324bafe",
   "metadata": {},
   "outputs": [],
   "source": []
  },
  {
   "cell_type": "code",
   "execution_count": 6,
   "id": "3a545576-a9e6-4128-bb12-9dd1e6ed7219",
   "metadata": {},
   "outputs": [
    {
     "name": "stdin",
     "output_type": "stream",
     "text": [
      "a= 43\n",
      "b= 34\n"
     ]
    },
    {
     "name": "stdout",
     "output_type": "stream",
     "text": [
      "subtraction= 9\n"
     ]
    }
   ],
   "source": [
    "num1=int(input(\"a=\"))\n",
    "num2=int(input(\"b=\"))\n",
    "print(\"subtraction=\", num1-num2)"
   ]
  },
  {
   "cell_type": "code",
   "execution_count": null,
   "id": "e78a6ef5-b470-46c8-9aca-547915d006d6",
   "metadata": {},
   "outputs": [],
   "source": []
  },
  {
   "cell_type": "code",
   "execution_count": 8,
   "id": "785ccd63-c7a8-4c32-b508-93d20b7d8b1b",
   "metadata": {},
   "outputs": [
    {
     "name": "stdin",
     "output_type": "stream",
     "text": [
      "a= 63\n",
      "b= 97\n"
     ]
    },
    {
     "name": "stdout",
     "output_type": "stream",
     "text": [
      "Multiplication= 6111\n"
     ]
    }
   ],
   "source": [
    "num1=int(input(\"a=\"))\n",
    "num2=int(input(\"b=\"))\n",
    "print(\"Multiplication=\", num1*num2)"
   ]
  },
  {
   "cell_type": "code",
   "execution_count": null,
   "id": "068fba11-7613-4a80-9583-97748319cf55",
   "metadata": {},
   "outputs": [],
   "source": []
  },
  {
   "cell_type": "code",
   "execution_count": 9,
   "id": "1252e0b7-102d-4cd2-b4fc-0c007abe6495",
   "metadata": {},
   "outputs": [
    {
     "name": "stdin",
     "output_type": "stream",
     "text": [
      "a= 76\n",
      "b= 31\n"
     ]
    },
    {
     "name": "stdout",
     "output_type": "stream",
     "text": [
      "Float division= 2.4516129032258065\n"
     ]
    }
   ],
   "source": [
    "num1=int(input(\"a=\"))\n",
    "num2=int(input(\"b=\"))\n",
    "print(\"Float division=\", num1/num2)"
   ]
  },
  {
   "cell_type": "code",
   "execution_count": null,
   "id": "b405eac9-cd45-4c49-bfca-303201b8b72d",
   "metadata": {},
   "outputs": [],
   "source": []
  },
  {
   "cell_type": "code",
   "execution_count": 10,
   "id": "58f22f79-4ec2-400a-b3ec-b1b07ddc8719",
   "metadata": {},
   "outputs": [
    {
     "name": "stdin",
     "output_type": "stream",
     "text": [
      "a= 76\n",
      "b= 31\n"
     ]
    },
    {
     "name": "stdout",
     "output_type": "stream",
     "text": [
      "floor division= 2\n"
     ]
    }
   ],
   "source": [
    "num1=int(input(\"a=\"))\n",
    "num2=int(input(\"b=\"))\n",
    "print(\"floor division=\", num1//num2)"
   ]
  },
  {
   "cell_type": "code",
   "execution_count": null,
   "id": "ea95db7c-ad58-4c13-98cb-e9726b0f9bf2",
   "metadata": {},
   "outputs": [],
   "source": []
  },
  {
   "cell_type": "code",
   "execution_count": 11,
   "id": "987583ad-19f7-40fc-b56f-b47bd1a0232c",
   "metadata": {},
   "outputs": [
    {
     "name": "stdout",
     "output_type": "stream",
     "text": [
      "modulo= 14\n"
     ]
    }
   ],
   "source": [
    "num1=76\n",
    "num2=31\n",
    "print(\"modulo=\",num1%num2)"
   ]
  },
  {
   "cell_type": "code",
   "execution_count": null,
   "id": "8af503de-502e-4271-84e9-0c88dcd6169b",
   "metadata": {},
   "outputs": [],
   "source": []
  },
  {
   "cell_type": "code",
   "execution_count": 12,
   "id": "561ca50e-6a5f-4af7-91bb-f3b4894fdca8",
   "metadata": {},
   "outputs": [
    {
     "name": "stdout",
     "output_type": "stream",
     "text": [
      "power= 256\n"
     ]
    }
   ],
   "source": [
    "a=4\n",
    "b=4\n",
    "print(\"power=\",a**b)"
   ]
  },
  {
   "cell_type": "code",
   "execution_count": null,
   "id": "0edbcfb2-c9fb-4b65-a3b1-fd674754441a",
   "metadata": {},
   "outputs": [],
   "source": []
  }
 ],
 "metadata": {
  "kernelspec": {
   "display_name": "Python 3 (ipykernel)",
   "language": "python",
   "name": "python3"
  },
  "language_info": {
   "codemirror_mode": {
    "name": "ipython",
    "version": 3
   },
   "file_extension": ".py",
   "mimetype": "text/x-python",
   "name": "python",
   "nbconvert_exporter": "python",
   "pygments_lexer": "ipython3",
   "version": "3.11.7"
  }
 },
 "nbformat": 4,
 "nbformat_minor": 5
}
