{
 "cells": [
  {
   "cell_type": "code",
   "execution_count": null,
   "id": "6ca042cf-0bc9-4bdd-95ce-c9cf35c2ad19",
   "metadata": {},
   "outputs": [],
   "source": [
    "number1=10\n",
    "number2=30\n",
    "add=number1+number2\n"
   ]
  },
  {
   "cell_type": "code",
   "execution_count": 4,
   "id": "69f0da03-80d8-4fd6-b97e-2559f18eb14d",
   "metadata": {},
   "outputs": [
    {
     "name": "stdout",
     "output_type": "stream",
     "text": [
      "add\n"
     ]
    }
   ],
   "source": [
    "number1=10\n",
    "number2=30\n",
    "add=number1+number2\n",
    "print(\"add\")"
   ]
  },
  {
   "cell_type": "code",
   "execution_count": null,
   "id": "c22c06ce-d9bf-4cf9-922e-36af289ca106",
   "metadata": {},
   "outputs": [],
   "source": []
  },
  {
   "cell_type": "code",
   "execution_count": 5,
   "id": "f5323924-c51e-4413-a168-b3e0892e3b2c",
   "metadata": {},
   "outputs": [
    {
     "name": "stdout",
     "output_type": "stream",
     "text": [
      "add\n",
      "40\n"
     ]
    }
   ],
   "source": [
    "number1=10\n",
    "number2=30\n",
    "add=number1+number2\n",
    "print(\"add\")\n",
    "print(add)"
   ]
  },
  {
   "cell_type": "code",
   "execution_count": null,
   "id": "7a28ebd3-8e9a-4f90-8327-5ceb9878db58",
   "metadata": {},
   "outputs": [],
   "source": []
  },
  {
   "cell_type": "code",
   "execution_count": 6,
   "id": "b233abad-37ea-4ef5-882b-2a76db1194f4",
   "metadata": {},
   "outputs": [
    {
     "name": "stdout",
     "output_type": "stream",
     "text": [
      "40\n",
      "-20\n"
     ]
    }
   ],
   "source": [
    "number1=10\n",
    "number2=30\n",
    "number3=50\n",
    "add=number1+number2\n",
    "sub=number1-number2\n",
    "print(add)\n",
    "print(sub)"
   ]
  },
  {
   "cell_type": "code",
   "execution_count": 7,
   "id": "d6260293-781f-4c8c-9307-b18dd09cbe25",
   "metadata": {},
   "outputs": [
    {
     "name": "stdout",
     "output_type": "stream",
     "text": [
      "40 -20\n"
     ]
    }
   ],
   "source": [
    "number1=10\n",
    "number2=30\n",
    "number3=50\n",
    "add=number1+number2\n",
    "sub=number1-number2\n",
    "print(add,sub)"
   ]
  },
  {
   "cell_type": "code",
   "execution_count": 3,
   "id": "f95447e9-0609-44ea-9c61-5711cc811ab6",
   "metadata": {},
   "outputs": [
    {
     "name": "stdout",
     "output_type": "stream",
     "text": [
      "the tow number sub\n",
      "the number1: 30\n",
      "the number2: 55\n",
      "the answer: -25\n"
     ]
    }
   ],
   "source": [
    "print(\"the tow number sub\")\n",
    "num1=30\n",
    "print(\"the number1:\",num1)\n",
    "num2=55\n",
    "print(\"the number2:\",num2)\n",
    "print(\"the answer:\",num1-num2)"
   ]
  },
  {
   "cell_type": "code",
   "execution_count": null,
   "id": "149c118b-927f-41cf-801e-5740df9a4079",
   "metadata": {},
   "outputs": [],
   "source": []
  }
 ],
 "metadata": {
  "kernelspec": {
   "display_name": "Python 3 (ipykernel)",
   "language": "python",
   "name": "python3"
  },
  "language_info": {
   "codemirror_mode": {
    "name": "ipython",
    "version": 3
   },
   "file_extension": ".py",
   "mimetype": "text/x-python",
   "name": "python",
   "nbconvert_exporter": "python",
   "pygments_lexer": "ipython3",
   "version": "3.11.7"
  }
 },
 "nbformat": 4,
 "nbformat_minor": 5
}
