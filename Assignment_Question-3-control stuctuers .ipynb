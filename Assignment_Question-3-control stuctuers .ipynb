{
 "cells": [
  {
   "cell_type": "code",
   "execution_count": 3,
   "id": "38b2548b-3c66-4ab3-a436-6e92618464d9",
   "metadata": {},
   "outputs": [
    {
     "name": "stdin",
     "output_type": "stream",
     "text": [
      "value: 10\n"
     ]
    },
    {
     "name": "stdout",
     "output_type": "stream",
     "text": [
      "Corret\n"
     ]
    }
   ],
   "source": [
    "num=int(input(\"value:\"))\n",
    "if(num==10):\n",
    "    print(\"Corret\")\n",
    "else:\n",
    "    print(\"inCorret\")"
   ]
  },
  {
   "cell_type": "code",
   "execution_count": 4,
   "id": "0cfda160-3697-4b84-8f74-98fa12366c8c",
   "metadata": {},
   "outputs": [
    {
     "name": "stdin",
     "output_type": "stream",
     "text": [
      "Enter the name: Hope\n",
      "enter the password: HOPE@123\n"
     ]
    },
    {
     "name": "stdout",
     "output_type": "stream",
     "text": [
      "Your password is correct:\n"
     ]
    }
   ],
   "source": [
    "name=input(\"Enter the name:\")\n",
    "if(name<=\"Hope\"):\n",
    "    password=input(\"enter the password:\")\n",
    "    if(password==\"HOPE@123\"):\n",
    "        print(\"Your password is correct:\")\n",
    "    else:\n",
    "        print(\"Your password is incorrect:\")\n",
    "        "
   ]
  },
  {
   "cell_type": "code",
   "execution_count": 5,
   "id": "e2d09e01-1255-4251-ad15-35043cd7c340",
   "metadata": {},
   "outputs": [
    {
     "name": "stdin",
     "output_type": "stream",
     "text": [
      "age: 20\n"
     ]
    },
    {
     "name": "stdout",
     "output_type": "stream",
     "text": [
      "Adult\n"
     ]
    }
   ],
   "source": [
    "age=int(input(\"age:\"))\n",
    "if(age<18):\n",
    "    print(\"children\")\n",
    "elif(age<40):\n",
    "    print(\"Adult\")\n",
    "else:\n",
    "    print(\"senior citizen\")\n",
    "          "
   ]
  },
  {
   "cell_type": "code",
   "execution_count": 13,
   "id": "37bee250-08fb-47f6-8813-85b606c9f177",
   "metadata": {},
   "outputs": [
    {
     "name": "stdin",
     "output_type": "stream",
     "text": [
      "Enter any number: 1\n"
     ]
    },
    {
     "name": "stdout",
     "output_type": "stream",
     "text": [
      "No is positive\n"
     ]
    }
   ],
   "source": [
    "num=int(input(\"Enter any number:\"))\n",
    "if(num<5):\n",
    "    print(\"No is positive\")\n",
    "else:\n",
    "    print(\"negative\")"
   ]
  },
  {
   "cell_type": "code",
   "execution_count": null,
   "id": "cdef23c8-f0c2-41ad-bed0-0aa3f7a83fbd",
   "metadata": {},
   "outputs": [],
   "source": []
  }
 ],
 "metadata": {
  "kernelspec": {
   "display_name": "Python 3 (ipykernel)",
   "language": "python",
   "name": "python3"
  },
  "language_info": {
   "codemirror_mode": {
    "name": "ipython",
    "version": 3
   },
   "file_extension": ".py",
   "mimetype": "text/x-python",
   "name": "python",
   "nbconvert_exporter": "python",
   "pygments_lexer": "ipython3",
   "version": "3.11.7"
  }
 },
 "nbformat": 4,
 "nbformat_minor": 5
}
