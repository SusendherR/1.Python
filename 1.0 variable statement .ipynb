{
 "cells": [
  {
   "cell_type": "code",
   "execution_count": 3,
   "id": "89d90953-1940-4518-99d8-eef3bbcabc12",
   "metadata": {},
   "outputs": [
    {
     "name": "stdout",
     "output_type": "stream",
     "text": [
      "the tow number sub , add ,multiplication \n",
      "the answe: -25 105 2250\n"
     ]
    }
   ],
   "source": [
    "print(\"the tow number sub , add ,multiplication \")\n",
    "num1=30\n",
    "num2=55\n",
    "num3=75\n",
    "print(\"the answe:\",num1-num2,num1+num3,num3*num1)"
   ]
  },
  {
   "cell_type": "code",
   "execution_count": null,
   "id": "063548ac-49a3-454d-9cba-94d3772e41cd",
   "metadata": {},
   "outputs": [],
   "source": []
  }
 ],
 "metadata": {
  "kernelspec": {
   "display_name": "Python 3 (ipykernel)",
   "language": "python",
   "name": "python3"
  },
  "language_info": {
   "codemirror_mode": {
    "name": "ipython",
    "version": 3
   },
   "file_extension": ".py",
   "mimetype": "text/x-python",
   "name": "python",
   "nbconvert_exporter": "python",
   "pygments_lexer": "ipython3",
   "version": "3.11.7"
  }
 },
 "nbformat": 4,
 "nbformat_minor": 5
}
