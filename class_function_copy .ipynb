{
 "cells": [
  {
   "cell_type": "code",
   "execution_count": 1,
   "id": "e503ad18-11da-44e7-8201-72355154af8a",
   "metadata": {},
   "outputs": [],
   "source": [
    "from class_function1 import classfuncation"
   ]
  },
  {
   "cell_type": "code",
   "execution_count": 5,
   "id": "ae34a8f8-eb81-415f-baa2-23ba24f85184",
   "metadata": {},
   "outputs": [
    {
     "name": "stdin",
     "output_type": "stream",
     "text": [
      "Enter The Number: 2\n"
     ]
    },
    {
     "name": "stdout",
     "output_type": "stream",
     "text": [
      "2 even number\n"
     ]
    },
    {
     "data": {
      "text/plain": [
       "'even number'"
      ]
     },
     "execution_count": 5,
     "metadata": {},
     "output_type": "execute_result"
    }
   ],
   "source": [
    "classfuncation.oddeven()"
   ]
  },
  {
   "cell_type": "code",
   "execution_count": null,
   "id": "ce2dd44b-cbcd-425e-942d-69e8be39e6d7",
   "metadata": {},
   "outputs": [],
   "source": []
  }
 ],
 "metadata": {
  "kernelspec": {
   "display_name": "Python 3 (ipykernel)",
   "language": "python",
   "name": "python3"
  },
  "language_info": {
   "codemirror_mode": {
    "name": "ipython",
    "version": 3
   },
   "file_extension": ".py",
   "mimetype": "text/x-python",
   "name": "python",
   "nbconvert_exporter": "python",
   "pygments_lexer": "ipython3",
   "version": "3.11.7"
  }
 },
 "nbformat": 4,
 "nbformat_minor": 5
}
