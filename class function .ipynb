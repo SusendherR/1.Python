{
 "cells": [
  {
   "cell_type": "code",
   "execution_count": 19,
   "id": "29e04f84-f37b-4141-8b61-84c52b28dd97",
   "metadata": {},
   "outputs": [],
   "source": [
    "class classfuncation():\n",
    "    def Subfields():\n",
    "            list=[\"Machine Learning\",\"Neural Networks\",\"Vision\",\"Robotics\",\"Speech Processing\",\"Natural Language Processing\"]\n",
    "            print(\"Sub-fields in AI are:\")\n",
    "            for temp in list:\n",
    "                print(temp)\n",
    "                \n",
    "    def oddeven():\n",
    "        num=int(input(\"Enter The Number:\"))\n",
    "        if((num%2)==0):\n",
    "            print(num,\"even number\")\n",
    "            message=\"even number\"\n",
    "        else:\n",
    "            print(num,\"odd number:\")\n",
    "            message=\"odd number\"\n",
    "        return message        \n",
    "\n",
    "    def marriage_elegibility():\n",
    "        Gender=input(\"Your Gender:\")\n",
    "        age=int(input(\"Your Age:\"))\n",
    "        if(age<=21):\n",
    "            print(\"NOT ELIGIBLE\")\n",
    "        elif(age<18):\n",
    "            print(\"NOT ELIGIBLE\")\n",
    "        else:\n",
    "            print(\"ELIGIBLE\")\n",
    "\n",
    "    def percentage():\n",
    "        m1=int(input(\"Subject1=\"))\n",
    "        m2=int(input(\"Subject2=\"))\n",
    "        m3=int(input(\"Subject3=\"))\n",
    "        m4=int(input(\"Subject4=\"))\n",
    "        m5=int(input(\"Subject5=\"))\n",
    "        Total=m1+m2+m3+m4+m5\n",
    "        print(\"Total:\",Total)\n",
    "        percentage=(Total/500)*100\n",
    "        print(\"percentage:\",percentage)\n",
    "        return percentage\n",
    "\n",
    "    def triangle():\n",
    "        Height=int(input(\"Height:\"))\n",
    "        Breadth=int(input(\"Breadth:\"))\n",
    "        print(\"area formula:(Height*Breadth)/2\")\n",
    "        print(\"area of Triangle:\",(Height*Breadth/2))\n",
    "        Height1=int(input(\"Height1:\"))\n",
    "        Height2=int(input(\"Height2:\"))\n",
    "        Breadth=int(input(\"Breadth:\"))\n",
    "        print(\"Perimeter formula:Height1+Height2+Breadth\")\n",
    "        print(\"Perimeter of Triangle:\",(Height1+Height2+Breadth))"
   ]
  },
  {
   "cell_type": "code",
   "execution_count": 21,
   "id": "b2283dab-5a58-45c3-98be-e99388fe3f83",
   "metadata": {},
   "outputs": [
    {
     "name": "stdin",
     "output_type": "stream",
     "text": [
      "Enter The Number: 4\n"
     ]
    },
    {
     "name": "stdout",
     "output_type": "stream",
     "text": [
      "4 even number\n"
     ]
    },
    {
     "data": {
      "text/plain": [
       "'even number'"
      ]
     },
     "execution_count": 21,
     "metadata": {},
     "output_type": "execute_result"
    }
   ],
   "source": [
    "classfuncation.oddeven()"
   ]
  },
  {
   "cell_type": "code",
   "execution_count": null,
   "id": "2a58ab75-0984-4d7d-9ba9-28d53b0fb78b",
   "metadata": {},
   "outputs": [],
   "source": []
  },
  {
   "cell_type": "code",
   "execution_count": 17,
   "id": "bca12298-add0-4ed2-9520-f4d0478b79ea",
   "metadata": {},
   "outputs": [],
   "source": []
  }
 ],
 "metadata": {
  "kernelspec": {
   "display_name": "Python 3 (ipykernel)",
   "language": "python",
   "name": "python3"
  },
  "language_info": {
   "codemirror_mode": {
    "name": "ipython",
    "version": 3
   },
   "file_extension": ".py",
   "mimetype": "text/x-python",
   "name": "python",
   "nbconvert_exporter": "python",
   "pygments_lexer": "ipython3",
   "version": "3.11.7"
  }
 },
 "nbformat": 4,
 "nbformat_minor": 5
}
