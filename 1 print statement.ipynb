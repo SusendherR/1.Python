{
 "cells": [
  {
   "cell_type": "code",
   "execution_count": 2,
   "id": "77107104-1aab-42dd-ab3e-7632b258f653",
   "metadata": {},
   "outputs": [
    {
     "name": "stdout",
     "output_type": "stream",
     "text": [
      "susendher al bigenar\n"
     ]
    }
   ],
   "source": [
    "print(\"susendher al bigenar\")"
   ]
  },
  {
   "cell_type": "code",
   "execution_count": 3,
   "id": "dd28f5dd-c4ea-4852-9471-17aede7f3c59",
   "metadata": {},
   "outputs": [
    {
     "name": "stdout",
     "output_type": "stream",
     "text": [
      "welcome to al coures\n"
     ]
    }
   ],
   "source": [
    "print(\"welcome to al coures\")"
   ]
  },
  {
   "cell_type": "code",
   "execution_count": 5,
   "id": "7556d85e-d890-4efc-91cd-ce89add9a03e",
   "metadata": {},
   "outputs": [
    {
     "name": "stdout",
     "output_type": "stream",
     "text": [
      "welcometo all frints\n"
     ]
    }
   ],
   "source": [
    "print(\"welcometo all frints\")\n"
   ]
  },
  {
   "cell_type": "code",
   "execution_count": 2,
   "id": "8d538511-e8e1-4145-b780-02ccd8d9fa58",
   "metadata": {},
   "outputs": [
    {
     "name": "stdout",
     "output_type": "stream",
     "text": [
      "rmhs\n"
     ]
    }
   ],
   "source": [
    "print(\"rmhs\")"
   ]
  },
  {
   "cell_type": "code",
   "execution_count": 7,
   "id": "f418b1e8-8d91-48bc-b99e-9227742dcb84",
   "metadata": {},
   "outputs": [
    {
     "name": "stdout",
     "output_type": "stream",
     "text": [
      "WELCOME\n"
     ]
    }
   ],
   "source": [
    "print(\"WELCOME\")"
   ]
  },
  {
   "cell_type": "code",
   "execution_count": null,
   "id": "61d1f492-dff9-4546-8b32-c4b65ad62e22",
   "metadata": {},
   "outputs": [],
   "source": []
  }
 ],
 "metadata": {
  "kernelspec": {
   "display_name": "Python 3 (ipykernel)",
   "language": "python",
   "name": "python3"
  },
  "language_info": {
   "codemirror_mode": {
    "name": "ipython",
    "version": 3
   },
   "file_extension": ".py",
   "mimetype": "text/x-python",
   "name": "python",
   "nbconvert_exporter": "python",
   "pygments_lexer": "ipython3",
   "version": "3.11.7"
  }
 },
 "nbformat": 4,
 "nbformat_minor": 5
}
