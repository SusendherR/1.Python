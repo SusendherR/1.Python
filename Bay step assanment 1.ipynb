{
 "cells": [
  {
   "cell_type": "code",
   "execution_count": 13,
   "id": "8457fe80-538a-43b2-971e-2902eff30065",
   "metadata": {},
   "outputs": [
    {
     "name": "stdout",
     "output_type": "stream",
     "text": [
      "add= 40\n"
     ]
    }
   ],
   "source": [
    "num1=10\n",
    "num2=30\n",
    "print(\"add=\",num1+num2)"
   ]
  },
  {
   "cell_type": "code",
   "execution_count": null,
   "id": "339e13e9-654e-4925-ac00-854b8d473ec2",
   "metadata": {},
   "outputs": [],
   "source": []
  },
  {
   "cell_type": "code",
   "execution_count": 18,
   "id": "d608eec3-9334-4fd4-8097-09d4eac5f802",
   "metadata": {},
   "outputs": [
    {
     "name": "stdin",
     "output_type": "stream",
     "text": [
      "num1= 10\n"
     ]
    }
   ],
   "source": [
    "num=int(input(\"num1=\"))"
   ]
  },
  {
   "cell_type": "code",
   "execution_count": 21,
   "id": "5db9d456-0b90-4075-9851-9f25c03075de",
   "metadata": {},
   "outputs": [
    {
     "name": "stdin",
     "output_type": "stream",
     "text": [
      "num2= 30\n"
     ]
    }
   ],
   "source": [
    "num2=int(input(\"num2=\"))"
   ]
  },
  {
   "cell_type": "code",
   "execution_count": 22,
   "id": "ab35d365-1bfb-4eda-88e1-38116cad3330",
   "metadata": {},
   "outputs": [
    {
     "name": "stdout",
     "output_type": "stream",
     "text": [
      "add 40\n"
     ]
    }
   ],
   "source": [
    "print(\"add\",num1+num2)"
   ]
  },
  {
   "cell_type": "code",
   "execution_count": null,
   "id": "c7f50ea9-6747-4966-b42e-c0e4bdfea95a",
   "metadata": {},
   "outputs": [],
   "source": []
  },
  {
   "cell_type": "code",
   "execution_count": 26,
   "id": "7dad7f20-e4f4-494b-9ea8-865c27884884",
   "metadata": {},
   "outputs": [
    {
     "name": "stdout",
     "output_type": "stream",
     "text": [
      "num1=10\n",
      "num2=30\n",
      "Add= 40\n"
     ]
    }
   ],
   "source": [
    "print(\"num1=10\")\n",
    "print(\"num2=30\")\n",
    "print(\"Add=\",num1+num2)"
   ]
  },
  {
   "cell_type": "code",
   "execution_count": null,
   "id": "e2fb4eb1-4fee-4b3d-b08b-386024a8cf5f",
   "metadata": {},
   "outputs": [],
   "source": []
  },
  {
   "cell_type": "code",
   "execution_count": 32,
   "id": "93f5fb65-f148-482f-90b4-6ba13b8392c7",
   "metadata": {},
   "outputs": [
    {
     "name": "stdin",
     "output_type": "stream",
     "text": [
      "Num1= 10\n",
      "Num2= 30\n"
     ]
    },
    {
     "name": "stdout",
     "output_type": "stream",
     "text": [
      "Add= 40\n"
     ]
    }
   ],
   "source": [
    "num1=int(input(\"Num1=\"))\n",
    "num2=int(input(\"Num2=\"))\n",
    "print(\"Add=\",num1+num2)"
   ]
  },
  {
   "cell_type": "code",
   "execution_count": null,
   "id": "1c1f46af-0a53-489a-9794-7ab5c84ec9b3",
   "metadata": {},
   "outputs": [],
   "source": []
  },
  {
   "cell_type": "code",
   "execution_count": 8,
   "id": "151c26d4-5945-47d3-a6d3-75666cdf9be0",
   "metadata": {},
   "outputs": [
    {
     "name": "stdin",
     "output_type": "stream",
     "text": [
      "BMI value 45\n"
     ]
    }
   ],
   "source": [
    "BMI=int(input(\"BMI value\"))"
   ]
  },
  {
   "cell_type": "code",
   "execution_count": 9,
   "id": "185e03e5-e473-45a8-b0c6-9edc25e8e734",
   "metadata": {},
   "outputs": [
    {
     "name": "stdout",
     "output_type": "stream",
     "text": [
      "OVER WIGHT\n"
     ]
    }
   ],
   "source": [
    "if(BMI<18.5):\n",
    "    print(\"UNDER WIGHT\")\n",
    "if(BMI<24.9):\n",
    "    print(\"NORMAL WIGHT\")\n",
    "else:\n",
    "    print(\"OVER WIGHT\")\n"
   ]
  },
  {
   "cell_type": "code",
   "execution_count": null,
   "id": "3c08367e-69ba-4e50-bdb8-a4d7426f3c46",
   "metadata": {},
   "outputs": [],
   "source": []
  }
 ],
 "metadata": {
  "kernelspec": {
   "display_name": "Python 3 (ipykernel)",
   "language": "python",
   "name": "python3"
  },
  "language_info": {
   "codemirror_mode": {
    "name": "ipython",
    "version": 3
   },
   "file_extension": ".py",
   "mimetype": "text/x-python",
   "name": "python",
   "nbconvert_exporter": "python",
   "pygments_lexer": "ipython3",
   "version": "3.11.7"
  }
 },
 "nbformat": 4,
 "nbformat_minor": 5
}
