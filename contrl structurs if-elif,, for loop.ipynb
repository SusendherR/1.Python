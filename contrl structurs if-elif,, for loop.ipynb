{
 "cells": [
  {
   "cell_type": "code",
   "execution_count": 3,
   "id": "eabbade6-2961-49ca-824e-abb0d5a0d76b",
   "metadata": {},
   "outputs": [
    {
     "name": "stdin",
     "output_type": "stream",
     "text": [
      "Enter the BP: 120\n"
     ]
    }
   ],
   "source": [
    "BP=int(input(\"Enter the BP:\"))"
   ]
  },
  {
   "cell_type": "code",
   "execution_count": 4,
   "id": "90e84836-9606-4d06-845f-6a0b0a5b75f7",
   "metadata": {},
   "outputs": [
    {
     "name": "stdout",
     "output_type": "stream",
     "text": [
      "Elevated\n"
     ]
    }
   ],
   "source": [
    "if(BP<80):\n",
    "    print(\"Low leave BP\")\n",
    "elif(BP<120):\n",
    "    print(\"Normal BP\")\n",
    "elif(BP<129):\n",
    "    print(\"Elevated\")\n",
    "elif(BP<139):\n",
    "    print(\"BP Stage 1\")\n",
    "else:\n",
    "    print(\"BP Stage 2\")\n",
    "    "
   ]
  },
  {
   "cell_type": "code",
   "execution_count": 2,
   "id": "3b5e5c28-8d5b-4def-b623-67c6b8cd706d",
   "metadata": {},
   "outputs": [],
   "source": [
    "lists=[34,89,110,135,200]"
   ]
  },
  {
   "cell_type": "code",
   "execution_count": 7,
   "id": "2456ad06-11c3-465e-aa3e-298c817b49e8",
   "metadata": {},
   "outputs": [
    {
     "name": "stdout",
     "output_type": "stream",
     "text": [
      "34\n",
      "89\n",
      "110\n",
      "135\n",
      "200\n"
     ]
    }
   ],
   "source": [
    "for temp in lists:\n",
    "    print(temp)"
   ]
  },
  {
   "cell_type": "code",
   "execution_count": 9,
   "id": "e59b662d-f18e-44d6-b19c-50715ad796e0",
   "metadata": {},
   "outputs": [
    {
     "name": "stdout",
     "output_type": "stream",
     "text": [
      "Low leave BP\n",
      "Normal BP\n",
      "Normal BP\n",
      "BP Stage 1\n",
      "BP Stage 2\n"
     ]
    }
   ],
   "source": [
    "for BP in lists:\n",
    "    if(BP<80):\n",
    "        print(\"Low leave BP\")\n",
    "    elif(BP<120):\n",
    "        print(\"Normal BP\")\n",
    "    elif(BP<129):\n",
    "        print(\"Elevated\")\n",
    "    elif(BP<139):\n",
    "        print(\"BP Stage 1\")\n",
    "    else:\n",
    "        print(\"BP Stage 2\")"
   ]
  },
  {
   "cell_type": "code",
   "execution_count": null,
   "id": "9ea307b1-fe73-493c-8403-4943472e356d",
   "metadata": {},
   "outputs": [],
   "source": []
  },
  {
   "cell_type": "code",
   "execution_count": null,
   "id": "e945eb85-7bba-4c8c-8dbb-3a1db139c73b",
   "metadata": {},
   "outputs": [],
   "source": []
  }
 ],
 "metadata": {
  "kernelspec": {
   "display_name": "Python 3 (ipykernel)",
   "language": "python",
   "name": "python3"
  },
  "language_info": {
   "codemirror_mode": {
    "name": "ipython",
    "version": 3
   },
   "file_extension": ".py",
   "mimetype": "text/x-python",
   "name": "python",
   "nbconvert_exporter": "python",
   "pygments_lexer": "ipython3",
   "version": "3.11.7"
  }
 },
 "nbformat": 4,
 "nbformat_minor": 5
}
