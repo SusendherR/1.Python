{
 "cells": [
  {
   "cell_type": "code",
   "execution_count": 6,
   "id": "c52a5c77-e151-4f09-ac54-5e435b97aea0",
   "metadata": {},
   "outputs": [
    {
     "name": "stdout",
     "output_type": "stream",
     "text": [
      "WELCOME TO ASSIGNMENT-1\n"
     ]
    }
   ],
   "source": [
    "print(\"WELCOME TO ASSIGNMENT-1\")"
   ]
  },
  {
   "cell_type": "code",
   "execution_count": null,
   "id": "cc26cc21-b283-48e2-9f14-1adc31a03b52",
   "metadata": {},
   "outputs": [],
   "source": []
  },
  {
   "cell_type": "code",
   "execution_count": 2,
   "id": "b70c85b4-27f1-4c36-9a8e-2b556bab967a",
   "metadata": {},
   "outputs": [
    {
     "name": "stdin",
     "output_type": "stream",
     "text": [
      "Num1= 10\n"
     ]
    }
   ],
   "source": [
    "Num1=int(input(\"Num1=\"))"
   ]
  },
  {
   "cell_type": "code",
   "execution_count": 3,
   "id": "1dc658f6-069a-4a61-94d7-0f544fa6d8e0",
   "metadata": {},
   "outputs": [
    {
     "name": "stdin",
     "output_type": "stream",
     "text": [
      "Num2= 30\n"
     ]
    }
   ],
   "source": [
    "Num2=int(input(\"Num2=\"))"
   ]
  },
  {
   "cell_type": "code",
   "execution_count": 5,
   "id": "5c79a324-07e0-4688-80c6-efa9b2083437",
   "metadata": {},
   "outputs": [
    {
     "name": "stdout",
     "output_type": "stream",
     "text": [
      "Add 40\n"
     ]
    }
   ],
   "source": [
    "print(\"Add\",Num1+Num2)"
   ]
  },
  {
   "cell_type": "code",
   "execution_count": null,
   "id": "3a12159f-fd75-4c74-acef-28d9aafee3af",
   "metadata": {},
   "outputs": [],
   "source": []
  },
  {
   "cell_type": "code",
   "execution_count": 7,
   "id": "44a34757-0fda-4107-99e6-7eee024e52fb",
   "metadata": {},
   "outputs": [
    {
     "name": "stdin",
     "output_type": "stream",
     "text": [
      "BMI Value 40\n"
     ]
    }
   ],
   "source": [
    "BMI=int(input(\"BMI Value\"))\n",
    "        "
   ]
  },
  {
   "cell_type": "code",
   "execution_count": 8,
   "id": "b3acb2d2-a5a3-4592-902c-cd469024298c",
   "metadata": {},
   "outputs": [
    {
     "name": "stdout",
     "output_type": "stream",
     "text": [
      "OVER WIGHT\n"
     ]
    }
   ],
   "source": [
    "if(BMI<18.5):\n",
    "    print(\"UNDER WIGHT\")\n",
    "if(BMI<24.9):\n",
    "    print(\"NORMAL WIGHT\")\n",
    "else:\n",
    "    print(\"OVER WIGHT\")\n",
    "    "
   ]
  },
  {
   "cell_type": "code",
   "execution_count": null,
   "id": "d42d68bb-6094-43ad-ae3d-3c02a59dedd4",
   "metadata": {},
   "outputs": [],
   "source": []
  }
 ],
 "metadata": {
  "kernelspec": {
   "display_name": "Python 3 (ipykernel)",
   "language": "python",
   "name": "python3"
  },
  "language_info": {
   "codemirror_mode": {
    "name": "ipython",
    "version": 3
   },
   "file_extension": ".py",
   "mimetype": "text/x-python",
   "name": "python",
   "nbconvert_exporter": "python",
   "pygments_lexer": "ipython3",
   "version": "3.11.7"
  }
 },
 "nbformat": 4,
 "nbformat_minor": 5
}
