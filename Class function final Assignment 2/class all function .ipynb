{
 "cells": [
  {
   "cell_type": "code",
   "execution_count": 8,
   "id": "80848594-a0e2-401b-8b3b-e4db940fdbfd",
   "metadata": {},
   "outputs": [],
   "source": [
    "from function_class import classfunction1"
   ]
  },
  {
   "cell_type": "code",
   "execution_count": 9,
   "id": "3537f1ed-07cb-4ee9-a25f-1b931935b918",
   "metadata": {},
   "outputs": [
    {
     "name": "stdin",
     "output_type": "stream",
     "text": [
      "ENTER YOUR NAME: susendher\n",
      "ENTER THE AGE: 21\n",
      "ENTER THE SCHOOL NAME: government school\n",
      "ENTER THE DRGREE: B.sc\n"
     ]
    }
   ],
   "source": [
    "classfunction1.Buy_inputs()"
   ]
  },
  {
   "cell_type": "code",
   "execution_count": null,
   "id": "525d29c1-07bf-468e-b301-311c4c6b517f",
   "metadata": {},
   "outputs": [],
   "source": []
  }
 ],
 "metadata": {
  "kernelspec": {
   "display_name": "Python 3 (ipykernel)",
   "language": "python",
   "name": "python3"
  },
  "language_info": {
   "codemirror_mode": {
    "name": "ipython",
    "version": 3
   },
   "file_extension": ".py",
   "mimetype": "text/x-python",
   "name": "python",
   "nbconvert_exporter": "python",
   "pygments_lexer": "ipython3",
   "version": "3.11.7"
  }
 },
 "nbformat": 4,
 "nbformat_minor": 5
}
