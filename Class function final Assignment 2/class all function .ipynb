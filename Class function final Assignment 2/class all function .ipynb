{
 "cells": [
  {
   "cell_type": "code",
   "execution_count": 1,
   "id": "80848594-a0e2-401b-8b3b-e4db940fdbfd",
   "metadata": {},
   "outputs": [],
   "source": [
    "from function_class import classfunction1"
   ]
  },
  {
   "cell_type": "code",
   "execution_count": 5,
   "id": "3537f1ed-07cb-4ee9-a25f-1b931935b918",
   "metadata": {},
   "outputs": [
    {
     "name": "stdin",
     "output_type": "stream",
     "text": [
      "Your Gender: male\n",
      "Your Age: 23\n"
     ]
    },
    {
     "name": "stdout",
     "output_type": "stream",
     "text": [
      "ELIGIBLE\n"
     ]
    }
   ],
   "source": [
    "classfunction1.marriage_elegibility()"
   ]
  },
  {
   "cell_type": "code",
   "execution_count": null,
   "id": "525d29c1-07bf-468e-b301-311c4c6b517f",
   "metadata": {},
   "outputs": [],
   "source": []
  },
  {
   "cell_type": "code",
   "execution_count": null,
   "id": "28859829-7c2e-406b-85f2-d9e43f31043d",
   "metadata": {},
   "outputs": [],
   "source": []
  }
 ],
 "metadata": {
  "kernelspec": {
   "display_name": "Python 3 (ipykernel)",
   "language": "python",
   "name": "python3"
  },
  "language_info": {
   "codemirror_mode": {
    "name": "ipython",
    "version": 3
   },
   "file_extension": ".py",
   "mimetype": "text/x-python",
   "name": "python",
   "nbconvert_exporter": "python",
   "pygments_lexer": "ipython3",
   "version": "3.11.7"
  }
 },
 "nbformat": 4,
 "nbformat_minor": 5
}
